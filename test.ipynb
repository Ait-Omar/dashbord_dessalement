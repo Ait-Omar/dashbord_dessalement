{
 "cells": [
  {
   "cell_type": "code",
   "execution_count": 8,
   "metadata": {},
   "outputs": [],
   "source": [
    "import pandas as pd\n",
    "import numpy as np"
   ]
  },
  {
   "cell_type": "code",
   "execution_count": 20,
   "metadata": {},
   "outputs": [],
   "source": [
    "df = pd.read_excel('DATA/Suivi Analyse Mobile f.xlsx',sheet_name=\"intake\")"
   ]
  },
  {
   "cell_type": "code",
   "execution_count": 21,
   "metadata": {},
   "outputs": [
    {
     "name": "stdout",
     "output_type": "stream",
     "text": [
      "<class 'pandas.core.frame.DataFrame'>\n",
      "RangeIndex: 11 entries, 0 to 10\n",
      "Data columns (total 9 columns):\n",
      " #   Column                 Non-Null Count  Dtype         \n",
      "---  ------                 --------------  -----         \n",
      " 0   Date de prelevement    10 non-null     datetime64[ns]\n",
      " 1   Cond. (mS/cm) à 25° C  10 non-null     float64       \n",
      " 2   pH                     10 non-null     float64       \n",
      " 3   Turb (NTU)             10 non-null     float64       \n",
      " 4   PO43- (mg/l)           10 non-null     float64       \n",
      " 5   SiO2 (mg/l)            10 non-null     float64       \n",
      " 6   TOC (mg/l)             10 non-null     object        \n",
      " 7   MES  (mg/l)            10 non-null     object        \n",
      " 8   Cl2 libre (mg/l)       10 non-null     float64       \n",
      "dtypes: datetime64[ns](1), float64(6), object(2)\n",
      "memory usage: 924.0+ bytes\n"
     ]
    }
   ],
   "source": [
    "df.info()"
   ]
  },
  {
   "cell_type": "code",
   "execution_count": 22,
   "metadata": {},
   "outputs": [],
   "source": [
    "df.replace('/', np.nan, inplace=True)"
   ]
  },
  {
   "cell_type": "code",
   "execution_count": 26,
   "metadata": {},
   "outputs": [
    {
     "name": "stderr",
     "output_type": "stream",
     "text": [
      "C:\\Users\\USER\\AppData\\Local\\Temp\\ipykernel_6400\\2058404470.py:1: FutureWarning: A value is trying to be set on a copy of a DataFrame or Series through chained assignment using an inplace method.\n",
      "The behavior will change in pandas 3.0. This inplace method will never work because the intermediate object on which we are setting values always behaves as a copy.\n",
      "\n",
      "For example, when doing 'df[col].method(value, inplace=True)', try using 'df.method({col: value}, inplace=True)' or df[col] = df[col].method(value) instead, to perform the operation inplace on the original object.\n",
      "\n",
      "\n",
      "  df['TOC (mg/l)'].replace(1,'<3', inplace=True)\n"
     ]
    }
   ],
   "source": [
    "df['TOC (mg/l)'].replace(1,'<3', inplace=True)"
   ]
  },
  {
   "cell_type": "code",
   "execution_count": null,
   "metadata": {},
   "outputs": [],
   "source": [
    "df['TOC (mg/l)'].replace(1,'0', inplace=True)"
   ]
  },
  {
   "cell_type": "code",
   "execution_count": null,
   "metadata": {},
   "outputs": [],
   "source": [
    "df.replace('en cours', np.nan, inplace=True)"
   ]
  },
  {
   "cell_type": "code",
   "execution_count": 24,
   "metadata": {},
   "outputs": [
    {
     "data": {
      "text/plain": [
       "Index(['Date de prelevement', 'Cond. (mS/cm) à 25° C', 'pH', 'Turb (NTU)',\n",
       "       'PO43- (mg/l)', 'SiO2 (mg/l)', 'TOC (mg/l)', 'MES  (mg/l)',\n",
       "       'Cl2 libre (mg/l)'],\n",
       "      dtype='object')"
      ]
     },
     "execution_count": 24,
     "metadata": {},
     "output_type": "execute_result"
    }
   ],
   "source": [
    "df.columns"
   ]
  },
  {
   "cell_type": "code",
   "execution_count": 25,
   "metadata": {},
   "outputs": [
    {
     "data": {
      "text/html": [
       "<div>\n",
       "<style scoped>\n",
       "    .dataframe tbody tr th:only-of-type {\n",
       "        vertical-align: middle;\n",
       "    }\n",
       "\n",
       "    .dataframe tbody tr th {\n",
       "        vertical-align: top;\n",
       "    }\n",
       "\n",
       "    .dataframe thead th {\n",
       "        text-align: right;\n",
       "    }\n",
       "</style>\n",
       "<table border=\"1\" class=\"dataframe\">\n",
       "  <thead>\n",
       "    <tr style=\"text-align: right;\">\n",
       "      <th></th>\n",
       "      <th>Date de prelevement</th>\n",
       "      <th>Cond. (mS/cm) à 25° C</th>\n",
       "      <th>pH</th>\n",
       "      <th>Turb (NTU)</th>\n",
       "      <th>PO43- (mg/l)</th>\n",
       "      <th>SiO2 (mg/l)</th>\n",
       "      <th>TOC (mg/l)</th>\n",
       "      <th>MES  (mg/l)</th>\n",
       "      <th>Cl2 libre (mg/l)</th>\n",
       "    </tr>\n",
       "  </thead>\n",
       "  <tbody>\n",
       "    <tr>\n",
       "      <th>0</th>\n",
       "      <td>NaT</td>\n",
       "      <td>NaN</td>\n",
       "      <td>NaN</td>\n",
       "      <td>NaN</td>\n",
       "      <td>NaN</td>\n",
       "      <td>NaN</td>\n",
       "      <td>NaN</td>\n",
       "      <td>NaN</td>\n",
       "      <td>NaN</td>\n",
       "    </tr>\n",
       "    <tr>\n",
       "      <th>1</th>\n",
       "      <td>2024-07-16</td>\n",
       "      <td>55.9</td>\n",
       "      <td>7.70</td>\n",
       "      <td>1.39</td>\n",
       "      <td>4.19</td>\n",
       "      <td>1.451</td>\n",
       "      <td>&lt;3</td>\n",
       "      <td>2.3</td>\n",
       "      <td>0.0</td>\n",
       "    </tr>\n",
       "    <tr>\n",
       "      <th>2</th>\n",
       "      <td>2024-07-17</td>\n",
       "      <td>55.8</td>\n",
       "      <td>7.70</td>\n",
       "      <td>1.56</td>\n",
       "      <td>4.44</td>\n",
       "      <td>0.929</td>\n",
       "      <td>3.35</td>\n",
       "      <td>2.4</td>\n",
       "      <td>0.0</td>\n",
       "    </tr>\n",
       "    <tr>\n",
       "      <th>3</th>\n",
       "      <td>2024-07-18</td>\n",
       "      <td>55.5</td>\n",
       "      <td>7.50</td>\n",
       "      <td>1.33</td>\n",
       "      <td>5.42</td>\n",
       "      <td>0.794</td>\n",
       "      <td>0</td>\n",
       "      <td>2.2</td>\n",
       "      <td>0.0</td>\n",
       "    </tr>\n",
       "    <tr>\n",
       "      <th>4</th>\n",
       "      <td>2024-07-19</td>\n",
       "      <td>55.2</td>\n",
       "      <td>7.50</td>\n",
       "      <td>1.45</td>\n",
       "      <td>6.76</td>\n",
       "      <td>1.670</td>\n",
       "      <td>0</td>\n",
       "      <td>2.6</td>\n",
       "      <td>0.0</td>\n",
       "    </tr>\n",
       "    <tr>\n",
       "      <th>5</th>\n",
       "      <td>2024-07-20</td>\n",
       "      <td>55.9</td>\n",
       "      <td>7.75</td>\n",
       "      <td>2.17</td>\n",
       "      <td>5.66</td>\n",
       "      <td>1.468</td>\n",
       "      <td>0</td>\n",
       "      <td>3.4</td>\n",
       "      <td>0.0</td>\n",
       "    </tr>\n",
       "    <tr>\n",
       "      <th>6</th>\n",
       "      <td>2024-07-21</td>\n",
       "      <td>55.9</td>\n",
       "      <td>7.80</td>\n",
       "      <td>2.66</td>\n",
       "      <td>5.34</td>\n",
       "      <td>1.209</td>\n",
       "      <td>0</td>\n",
       "      <td>3.8</td>\n",
       "      <td>0.0</td>\n",
       "    </tr>\n",
       "    <tr>\n",
       "      <th>7</th>\n",
       "      <td>2024-07-22</td>\n",
       "      <td>55.9</td>\n",
       "      <td>7.70</td>\n",
       "      <td>1.20</td>\n",
       "      <td>4.08</td>\n",
       "      <td>1.477</td>\n",
       "      <td>0</td>\n",
       "      <td>1.8</td>\n",
       "      <td>0.0</td>\n",
       "    </tr>\n",
       "    <tr>\n",
       "      <th>8</th>\n",
       "      <td>2024-07-23</td>\n",
       "      <td>55.9</td>\n",
       "      <td>7.40</td>\n",
       "      <td>1.87</td>\n",
       "      <td>5.65</td>\n",
       "      <td>1.333</td>\n",
       "      <td>0</td>\n",
       "      <td>4.8</td>\n",
       "      <td>0.0</td>\n",
       "    </tr>\n",
       "    <tr>\n",
       "      <th>9</th>\n",
       "      <td>2024-07-24</td>\n",
       "      <td>56.7</td>\n",
       "      <td>7.80</td>\n",
       "      <td>1.31</td>\n",
       "      <td>3.78</td>\n",
       "      <td>0.923</td>\n",
       "      <td>0</td>\n",
       "      <td>NaN</td>\n",
       "      <td>0.0</td>\n",
       "    </tr>\n",
       "    <tr>\n",
       "      <th>10</th>\n",
       "      <td>2024-07-25</td>\n",
       "      <td>56.9</td>\n",
       "      <td>7.70</td>\n",
       "      <td>1.68</td>\n",
       "      <td>5.24</td>\n",
       "      <td>0.703</td>\n",
       "      <td>NaN</td>\n",
       "      <td>NaN</td>\n",
       "      <td>0.0</td>\n",
       "    </tr>\n",
       "  </tbody>\n",
       "</table>\n",
       "</div>"
      ],
      "text/plain": [
       "   Date de prelevement  Cond. (mS/cm) à 25° C    pH  Turb (NTU)  PO43- (mg/l)  \\\n",
       "0                  NaT                    NaN   NaN         NaN           NaN   \n",
       "1           2024-07-16                   55.9  7.70        1.39          4.19   \n",
       "2           2024-07-17                   55.8  7.70        1.56          4.44   \n",
       "3           2024-07-18                   55.5  7.50        1.33          5.42   \n",
       "4           2024-07-19                   55.2  7.50        1.45          6.76   \n",
       "5           2024-07-20                   55.9  7.75        2.17          5.66   \n",
       "6           2024-07-21                   55.9  7.80        2.66          5.34   \n",
       "7           2024-07-22                   55.9  7.70        1.20          4.08   \n",
       "8           2024-07-23                   55.9  7.40        1.87          5.65   \n",
       "9           2024-07-24                   56.7  7.80        1.31          3.78   \n",
       "10          2024-07-25                   56.9  7.70        1.68          5.24   \n",
       "\n",
       "    SiO2 (mg/l) TOC (mg/l)  MES  (mg/l)  Cl2 libre (mg/l)  \n",
       "0           NaN        NaN          NaN               NaN  \n",
       "1         1.451         <3          2.3               0.0  \n",
       "2         0.929       3.35          2.4               0.0  \n",
       "3         0.794          0          2.2               0.0  \n",
       "4         1.670          0          2.6               0.0  \n",
       "5         1.468          0          3.4               0.0  \n",
       "6         1.209          0          3.8               0.0  \n",
       "7         1.477          0          1.8               0.0  \n",
       "8         1.333          0          4.8               0.0  \n",
       "9         0.923          0          NaN               0.0  \n",
       "10        0.703        NaN          NaN               0.0  "
      ]
     },
     "execution_count": 25,
     "metadata": {},
     "output_type": "execute_result"
    }
   ],
   "source": [
    "df"
   ]
  },
  {
   "cell_type": "code",
   "execution_count": null,
   "metadata": {},
   "outputs": [],
   "source": []
  }
 ],
 "metadata": {
  "kernelspec": {
   "display_name": "venv",
   "language": "python",
   "name": "python3"
  },
  "language_info": {
   "codemirror_mode": {
    "name": "ipython",
    "version": 3
   },
   "file_extension": ".py",
   "mimetype": "text/x-python",
   "name": "python",
   "nbconvert_exporter": "python",
   "pygments_lexer": "ipython3",
   "version": "3.11.7"
  }
 },
 "nbformat": 4,
 "nbformat_minor": 2
}
